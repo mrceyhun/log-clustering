{
 "cells": [
  {
   "cell_type": "code",
   "execution_count": 30,
   "metadata": {
    "scrolled": true
   },
   "outputs": [],
   "source": [
    "import numpy as np\n",
    "import pandas as pd\n",
    "from clusterlogs import pipeline\n",
    "import nltk"
   ]
  },
  {
   "cell_type": "code",
   "execution_count": 31,
   "metadata": {},
   "outputs": [
    {
     "name": "stderr",
     "output_type": "stream",
     "text": [
      "/home/nikodemas/anaconda3/envs/jupyter/lib/python3.6/site-packages/ipykernel_launcher.py:1: FutureWarning: Passing a negative integer is deprecated in version 1.0 and will not be supported in future version. Instead, use None to not limit the column width.\n",
      "  \"\"\"Entry point for launching an IPython kernel.\n"
     ]
    }
   ],
   "source": [
    "pd.set_option('display.max_colwidth', -1)"
   ]
  },
  {
   "cell_type": "code",
   "execution_count": 32,
   "metadata": {},
   "outputs": [],
   "source": [
    "df = pd.read_csv('error_src_0105.txt')"
   ]
  },
  {
   "cell_type": "code",
   "execution_count": 33,
   "metadata": {},
   "outputs": [
    {
     "data": {
      "text/html": [
       "<div>\n",
       "<style scoped>\n",
       "    .dataframe tbody tr th:only-of-type {\n",
       "        vertical-align: middle;\n",
       "    }\n",
       "\n",
       "    .dataframe tbody tr th {\n",
       "        vertical-align: top;\n",
       "    }\n",
       "\n",
       "    .dataframe thead th {\n",
       "        text-align: right;\n",
       "    }\n",
       "</style>\n",
       "<table border=\"1\" class=\"dataframe\">\n",
       "  <thead>\n",
       "    <tr style=\"text-align: right;\">\n",
       "      <th></th>\n",
       "      <th>time</th>\n",
       "      <th>error_message</th>\n",
       "    </tr>\n",
       "  </thead>\n",
       "  <tbody>\n",
       "    <tr>\n",
       "      <th>0</th>\n",
       "      <td>1578189601783</td>\n",
       "      <td>SOURCE lapp-se01.in2p3.fr ERROR transfer error copy failed with mode push with error copy could not get the delegation id could not get proxy request error fault soap env server no subcode http not found detail</td>\n",
       "    </tr>\n",
       "    <tr>\n",
       "      <th>1</th>\n",
       "      <td>1578189607441</td>\n",
       "      <td>SOURCE se01.indiacms.res.in ERROR transfer transfer canceled because the gsiftp performance marker timeout of seconds has been exceeded or all performance markers during that period indicated zero bytes transferred</td>\n",
       "    </tr>\n",
       "    <tr>\n",
       "      <th>2</th>\n",
       "      <td>1578189609698</td>\n",
       "      <td>SOURCE eosatlashttp.cern.ch ERROR transfer error copy failed with mode push with error copy http conflict file exist</td>\n",
       "    </tr>\n",
       "  </tbody>\n",
       "</table>\n",
       "</div>"
      ],
      "text/plain": [
       "            time  \\\n",
       "0  1578189601783   \n",
       "1  1578189607441   \n",
       "2  1578189609698   \n",
       "\n",
       "                                                                                                                                                                                                            error_message  \n",
       "0  SOURCE lapp-se01.in2p3.fr ERROR transfer error copy failed with mode push with error copy could not get the delegation id could not get proxy request error fault soap env server no subcode http not found detail      \n",
       "1  SOURCE se01.indiacms.res.in ERROR transfer transfer canceled because the gsiftp performance marker timeout of seconds has been exceeded or all performance markers during that period indicated zero bytes transferred  \n",
       "2  SOURCE eosatlashttp.cern.ch ERROR transfer error copy failed with mode push with error copy http conflict file exist                                                                                                    "
      ]
     },
     "execution_count": 33,
     "metadata": {},
     "output_type": "execute_result"
    }
   ],
   "source": [
    "df.head(3)"
   ]
  },
  {
   "cell_type": "code",
   "execution_count": 34,
   "metadata": {},
   "outputs": [],
   "source": [
    "cluster = pipeline.Chain(df, target='error_message', mode='create')"
   ]
  },
  {
   "cell_type": "code",
   "execution_count": 35,
   "metadata": {},
   "outputs": [
    {
     "name": "stdout",
     "output_type": "stream",
     "text": [
      "Found 5204 equal groups\n",
      "Vectorization of tokens finished\n",
      "Vectorization of sentences is finished\n",
      "Vocabulary size = 1082\n",
      "Number of dimensions is 33\n",
      "DBSCAN finished with 291 clusters\n"
     ]
    }
   ],
   "source": [
    "cluster.process()"
   ]
  },
  {
   "cell_type": "markdown",
   "metadata": {},
   "source": [
    "Separating clusters containing fewer than 3 messages"
   ]
  },
  {
   "cell_type": "code",
   "execution_count": 36,
   "metadata": {},
   "outputs": [],
   "source": [
    "clusters, outliers = cluster.split_clusters(cluster.result, 'cluster_size', threshold=3)"
   ]
  },
  {
   "cell_type": "markdown",
   "metadata": {},
   "source": [
    "\n",
    "Top 10 clusters by the size of cluster"
   ]
  },
  {
   "cell_type": "code",
   "execution_count": 37,
   "metadata": {},
   "outputs": [
    {
     "data": {
      "text/html": [
       "<div>\n",
       "<style scoped>\n",
       "    .dataframe tbody tr th:only-of-type {\n",
       "        vertical-align: middle;\n",
       "    }\n",
       "\n",
       "    .dataframe tbody tr th {\n",
       "        vertical-align: top;\n",
       "    }\n",
       "\n",
       "    .dataframe thead th {\n",
       "        text-align: right;\n",
       "    }\n",
       "</style>\n",
       "<table border=\"1\" class=\"dataframe\">\n",
       "  <thead>\n",
       "    <tr style=\"text-align: right;\">\n",
       "      <th></th>\n",
       "      <th>cluster_size</th>\n",
       "      <th>pattern</th>\n",
       "      <th>mean_similarity</th>\n",
       "    </tr>\n",
       "  </thead>\n",
       "  <tbody>\n",
       "    <tr>\n",
       "      <th>0</th>\n",
       "      <td>62725</td>\n",
       "      <td>SOURCE  ERROR error on xrdcl copyprocess run error server responded with an error  denied</td>\n",
       "      <td>0.79</td>\n",
       "    </tr>\n",
       "    <tr>\n",
       "      <th>1</th>\n",
       "      <td>56768</td>\n",
       "      <td>SOURCE  ERROR srm ifce err communication error on send err se  httpg srm cgsi gsoap running on reports error reading token data header connection</td>\n",
       "      <td>0.88</td>\n",
       "    </tr>\n",
       "    <tr>\n",
       "      <th>2</th>\n",
       "      <td>45178</td>\n",
       "      <td>SOURCE  ERROR protocol not supported or path url invalid root  atlasscratchdisk rucio tests</td>\n",
       "      <td>0.75</td>\n",
       "    </tr>\n",
       "    <tr>\n",
       "      <th>3</th>\n",
       "      <td>42959</td>\n",
       "      <td>SOURCE  ERROR source srm get turl error on the turl request se  srm file unavailable file is .</td>\n",
       "      <td>0.78</td>\n",
       "    </tr>\n",
       "    <tr>\n",
       "      <th>4</th>\n",
       "      <td>28596</td>\n",
       "      <td>SOURCE  ERROR globus ftp client the server responded with an error service busy connection limit exceeded. please try again later. closing control connection.</td>\n",
       "      <td>0.88</td>\n",
       "    </tr>\n",
       "    <tr>\n",
       "      <th>5</th>\n",
       "      <td>26924</td>\n",
       "      <td>SOURCE  ERROR error on xrdcl copyprocess run error server responded with an error authentication to failed all protocols have been tried.</td>\n",
       "      <td>0.87</td>\n",
       "    </tr>\n",
       "    <tr>\n",
       "      <th>6</th>\n",
       "      <td>24440</td>\n",
       "      <td>SOURCE  ERROR error on xrdcl copyprocess run error server responded with an error unable to create permission denied</td>\n",
       "      <td>0.84</td>\n",
       "    </tr>\n",
       "    <tr>\n",
       "      <th>7</th>\n",
       "      <td>21696</td>\n",
       "      <td>SOURCE  ERROR transfer transfer canceled because the gsiftp performance marker timeout of seconds has been exceeded or all performance markers during that period indicated zero bytes transferred</td>\n",
       "      <td>0.91</td>\n",
       "    </tr>\n",
       "    <tr>\n",
       "      <th>8</th>\n",
       "      <td>20554</td>\n",
       "      <td>SOURCE  ERROR error reported from srm ifce se ls srm invalid path no such file or directory</td>\n",
       "      <td>0.84</td>\n",
       "    </tr>\n",
       "    <tr>\n",
       "      <th>9</th>\n",
       "      <td>17071</td>\n",
       "      <td>SOURCE  ERROR gfalt copy file perform copy error on xrdcl copyprocess run error server responded with an error  permission denied</td>\n",
       "      <td>0.87</td>\n",
       "    </tr>\n",
       "  </tbody>\n",
       "</table>\n",
       "</div>"
      ],
      "text/plain": [
       "   cluster_size  \\\n",
       "0  62725          \n",
       "1  56768          \n",
       "2  45178          \n",
       "3  42959          \n",
       "4  28596          \n",
       "5  26924          \n",
       "6  24440          \n",
       "7  21696          \n",
       "8  20554          \n",
       "9  17071          \n",
       "\n",
       "                                                                                                                                                                                              pattern  \\\n",
       "0  SOURCE  ERROR error on xrdcl copyprocess run error server responded with an error  denied                                                                                                            \n",
       "1  SOURCE  ERROR srm ifce err communication error on send err se  httpg srm cgsi gsoap running on reports error reading token data header connection                                                    \n",
       "2  SOURCE  ERROR protocol not supported or path url invalid root  atlasscratchdisk rucio tests                                                                                                          \n",
       "3  SOURCE  ERROR source srm get turl error on the turl request se  srm file unavailable file is .                                                                                                       \n",
       "4  SOURCE  ERROR globus ftp client the server responded with an error service busy connection limit exceeded. please try again later. closing control connection.                                       \n",
       "5  SOURCE  ERROR error on xrdcl copyprocess run error server responded with an error authentication to failed all protocols have been tried.                                                            \n",
       "6  SOURCE  ERROR error on xrdcl copyprocess run error server responded with an error unable to create permission denied                                                                                 \n",
       "7  SOURCE  ERROR transfer transfer canceled because the gsiftp performance marker timeout of seconds has been exceeded or all performance markers during that period indicated zero bytes transferred   \n",
       "8  SOURCE  ERROR error reported from srm ifce se ls srm invalid path no such file or directory                                                                                                          \n",
       "9  SOURCE  ERROR gfalt copy file perform copy error on xrdcl copyprocess run error server responded with an error  permission denied                                                                    \n",
       "\n",
       "   mean_similarity  \n",
       "0  0.79             \n",
       "1  0.88             \n",
       "2  0.75             \n",
       "3  0.78             \n",
       "4  0.88             \n",
       "5  0.87             \n",
       "6  0.84             \n",
       "7  0.91             \n",
       "8  0.84             \n",
       "9  0.87             "
      ]
     },
     "execution_count": 37,
     "metadata": {},
     "output_type": "execute_result"
    }
   ],
   "source": [
    "top_numb = 10\n",
    "top_clusters = cluster.validation(clusters)[['cluster_size','pattern','mean_similarity']].sort_values(by=[\"cluster_size\"], ascending=False) #clusters sorted by similarity inside the cluster\n",
    "top_clusters.head(top_numb)"
   ]
  },
  {
   "cell_type": "markdown",
   "metadata": {},
   "source": [
    "Most inaccurate clusters"
   ]
  },
  {
   "cell_type": "code",
   "execution_count": 38,
   "metadata": {
    "scrolled": true
   },
   "outputs": [
    {
     "data": {
      "text/html": [
       "<div>\n",
       "<style scoped>\n",
       "    .dataframe tbody tr th:only-of-type {\n",
       "        vertical-align: middle;\n",
       "    }\n",
       "\n",
       "    .dataframe tbody tr th {\n",
       "        vertical-align: top;\n",
       "    }\n",
       "\n",
       "    .dataframe thead th {\n",
       "        text-align: right;\n",
       "    }\n",
       "</style>\n",
       "<table border=\"1\" class=\"dataframe\">\n",
       "  <thead>\n",
       "    <tr style=\"text-align: right;\">\n",
       "      <th></th>\n",
       "      <th>cluster_size</th>\n",
       "      <th>pattern</th>\n",
       "      <th>mean_similarity</th>\n",
       "    </tr>\n",
       "  </thead>\n",
       "  <tbody>\n",
       "    <tr>\n",
       "      <th>17</th>\n",
       "      <td>9393</td>\n",
       "      <td>SOURCE  ERROR operation timed out</td>\n",
       "      <td>0.61</td>\n",
       "    </tr>\n",
       "    <tr>\n",
       "      <th>90</th>\n",
       "      <td>341</td>\n",
       "      <td>SOURCE  ERROR transfer error copy failed with mode push with error transfer failed failure    connect to</td>\n",
       "      <td>0.64</td>\n",
       "    </tr>\n",
       "    <tr>\n",
       "      <th>48</th>\n",
       "      <td>1600</td>\n",
       "      <td>SOURCE  ERROR srm operation canceled</td>\n",
       "      <td>0.65</td>\n",
       "    </tr>\n",
       "    <tr>\n",
       "      <th>39</th>\n",
       "      <td>2815</td>\n",
       "      <td>SOURCE  ERROR  checksum operation canceled by user</td>\n",
       "      <td>0.65</td>\n",
       "    </tr>\n",
       "    <tr>\n",
       "      <th>168</th>\n",
       "      <td>15</td>\n",
       "      <td>SOURCE  ERROR destination srm putdone error on the surl srm cms store while putdone se putdone srm</td>\n",
       "      <td>0.67</td>\n",
       "    </tr>\n",
       "  </tbody>\n",
       "</table>\n",
       "</div>"
      ],
      "text/plain": [
       "     cluster_size  \\\n",
       "17   9393           \n",
       "90   341            \n",
       "48   1600           \n",
       "39   2815           \n",
       "168  15             \n",
       "\n",
       "                                                                                                         pattern  \\\n",
       "17   SOURCE  ERROR operation timed out                                                                             \n",
       "90   SOURCE  ERROR transfer error copy failed with mode push with error transfer failed failure    connect to      \n",
       "48   SOURCE  ERROR srm operation canceled                                                                          \n",
       "39   SOURCE  ERROR  checksum operation canceled by user                                                            \n",
       "168  SOURCE  ERROR destination srm putdone error on the surl srm cms store while putdone se putdone srm            \n",
       "\n",
       "     mean_similarity  \n",
       "17   0.61             \n",
       "90   0.64             \n",
       "48   0.65             \n",
       "39   0.65             \n",
       "168  0.67             "
      ]
     },
     "execution_count": 38,
     "metadata": {},
     "output_type": "execute_result"
    }
   ],
   "source": [
    "top_clusters[['cluster_size','pattern','mean_similarity']].sort_values(by=[\"mean_similarity\"]).head(5)"
   ]
  },
  {
   "cell_type": "code",
   "execution_count": 42,
   "metadata": {},
   "outputs": [
    {
     "name": "stdout",
     "output_type": "stream",
     "text": [
      "['SOURCE fal-pygrid-30.lancs.ac.uk ERROR error on xrdcl copyprocess run error server responded with an error sync tpc open failed for src url root dpm lancs.ac.uk home atlas atlasscratchdisk rucio tests db fst.readahead true'\n",
      " 'SOURCE se1.oscer.ou.edu ERROR error on xrdcl copyprocess run error server responded with an error sync tpc open failed for src url root xrd atlasscratchdisk rucio tests ed fst.readahead true'\n",
      " 'SOURCE dcache-atlas-xrootd-wan.desy.de ERROR error on xrdcl copyprocess run error server responded with an error sync tpc open failed for src url root pnfs desy.de atlas atlasscratchdisk rucio tests fa fst.readahead true'] \n",
      "\n"
     ]
    }
   ],
   "source": [
    "print(cluster.in_cluster(cluster.result, 1)[[1,15,30]],\"\\n\")"
   ]
  }
 ],
 "metadata": {
  "kernelspec": {
   "display_name": "Python 3",
   "language": "python",
   "name": "python3"
  },
  "language_info": {
   "codemirror_mode": {
    "name": "ipython",
    "version": 3
   },
   "file_extension": ".py",
   "mimetype": "text/x-python",
   "name": "python",
   "nbconvert_exporter": "python",
   "pygments_lexer": "ipython3",
   "version": "3.6.10"
  }
 },
 "nbformat": 4,
 "nbformat_minor": 4
}
