{
 "cells": [
  {
   "cell_type": "code",
   "execution_count": 69,
   "metadata": {
    "scrolled": true
   },
   "outputs": [],
   "source": [
    "import numpy as np\n",
    "import pandas as pd\n",
    "from clusterlogs import pipeline\n",
    "import nltk"
   ]
  },
  {
   "cell_type": "code",
   "execution_count": 70,
   "metadata": {},
   "outputs": [],
   "source": [
    "pd.set_option('display.max_colwidth', -1)"
   ]
  },
  {
   "cell_type": "code",
   "execution_count": 71,
   "metadata": {},
   "outputs": [],
   "source": [
    "df = pd.read_csv('error1109.txt')"
   ]
  },
  {
   "cell_type": "code",
   "execution_count": 72,
   "metadata": {
    "scrolled": true
   },
   "outputs": [
    {
     "data": {
      "text/html": [
       "<div>\n",
       "<style scoped>\n",
       "    .dataframe tbody tr th:only-of-type {\n",
       "        vertical-align: middle;\n",
       "    }\n",
       "\n",
       "    .dataframe tbody tr th {\n",
       "        vertical-align: top;\n",
       "    }\n",
       "\n",
       "    .dataframe thead th {\n",
       "        text-align: right;\n",
       "    }\n",
       "</style>\n",
       "<table border=\"1\" class=\"dataframe\">\n",
       "  <thead>\n",
       "    <tr style=\"text-align: right;\">\n",
       "      <th></th>\n",
       "      <th>src_site</th>\n",
       "      <th>dst_site</th>\n",
       "      <th>error</th>\n",
       "      <th>type</th>\n",
       "    </tr>\n",
       "  </thead>\n",
       "  <tbody>\n",
       "    <tr>\n",
       "      <td>0</td>\n",
       "      <td>BelGrid-UCL</td>\n",
       "      <td>NaN</td>\n",
       "      <td>TRANSFER  Transfer canceled because the gsiftp performance marker timeout of 360 seconds has been exceeded, or all performance markers during that period indicated zero bytes transferred</td>\n",
       "      <td>cms</td>\n",
       "    </tr>\n",
       "    <tr>\n",
       "      <td>1</td>\n",
       "      <td>UKI-SOUTHGRID-RALPP</td>\n",
       "      <td>NaN</td>\n",
       "      <td>TRANSFER  Transfer canceled because the gsiftp performance marker timeout of 360 seconds has been exceeded, or all performance markers during that period indicated zero bytes transferred</td>\n",
       "      <td>cms</td>\n",
       "    </tr>\n",
       "    <tr>\n",
       "      <td>2</td>\n",
       "      <td>DESY-HH</td>\n",
       "      <td>UCSDT2</td>\n",
       "      <td>srm-ifce err: Communication error on send, err: [SE][Ls][] httpg://dcache-se-cms.desy.de:8443/srm/managerv2: CGSI-gSOAP running on cmsftssrv1.fnal.gov reports could not open connection to dcache-se-cms.desy.de:8443</td>\n",
       "      <td>cms</td>\n",
       "    </tr>\n",
       "    <tr>\n",
       "      <td>3</td>\n",
       "      <td>DESY-HH</td>\n",
       "      <td>UCSDT2</td>\n",
       "      <td>srm-ifce err: Communication error on send, err: [SE][Ls][] httpg://dcache-se-cms.desy.de:8443/srm/managerv2: CGSI-gSOAP running on cmsftssrv1.fnal.gov reports could not open connection to dcache-se-cms.desy.de:8443</td>\n",
       "      <td>cms</td>\n",
       "    </tr>\n",
       "    <tr>\n",
       "      <td>4</td>\n",
       "      <td>UCSDT2</td>\n",
       "      <td>KR-KNU-T3</td>\n",
       "      <td>TRANSFER  globus_ftp_client: the server responded with an error 500 Command failed. : open/create : [ERROR] Server responded with an error: [3021] Unable to get quota space - quota not defined or exhausted /eos/cms/store/user/chench/JetHT/C/191107_211030/0000/log/cmsRun_394.log.tar.gz; Disk quota exceeded</td>\n",
       "      <td>cms</td>\n",
       "    </tr>\n",
       "    <tr>\n",
       "      <td>5</td>\n",
       "      <td>KR-KNU-T3</td>\n",
       "      <td>NaN</td>\n",
       "      <td>TRANSFER  globus_xio: Unable to connect to dpms29.indiacms.res.in:2811 globus_xio: System error in connect: Connection timed out globus_xio: A system call failed: Connection timed out</td>\n",
       "      <td>cms</td>\n",
       "    </tr>\n",
       "    <tr>\n",
       "      <td>6</td>\n",
       "      <td>CIT_CMS_T2</td>\n",
       "      <td>KR-KNU-T3</td>\n",
       "      <td>TRANSFER  globus_ftp_client: the server responded with an error 500 Command failed. : open/create : [ERROR] Server responded with an error: [3021] Unable to get quota space - quota not defined or exhausted /eos/cms/store/user/chench/JetHT/E/191107_204933/0000/log/cmsRun_679.log.tar.gz; Disk quota exceeded</td>\n",
       "      <td>cms</td>\n",
       "    </tr>\n",
       "    <tr>\n",
       "      <td>7</td>\n",
       "      <td>BEIJING-LCG2</td>\n",
       "      <td>NaN</td>\n",
       "      <td>TRANSFER  Operation timed out</td>\n",
       "      <td>cms</td>\n",
       "    </tr>\n",
       "    <tr>\n",
       "      <td>8</td>\n",
       "      <td>NaN</td>\n",
       "      <td>INFN-T1</td>\n",
       "      <td>TRANSFER  Transfer canceled because the gsiftp performance marker timeout of 360 seconds has been exceeded, or all performance markers during that period indicated zero bytes transferred</td>\n",
       "      <td>cms</td>\n",
       "    </tr>\n",
       "    <tr>\n",
       "      <td>9</td>\n",
       "      <td>DESY-HH</td>\n",
       "      <td>UCSDT2</td>\n",
       "      <td>srm-ifce err: Communication error on send, err: [SE][Ls][] httpg://dcache-se-cms.desy.de:8443/srm/managerv2: CGSI-gSOAP running on cmsftssrv1.fnal.gov reports could not open connection to dcache-se-cms.desy.de:8443</td>\n",
       "      <td>cms</td>\n",
       "    </tr>\n",
       "  </tbody>\n",
       "</table>\n",
       "</div>"
      ],
      "text/plain": [
       "              src_site   dst_site  \\\n",
       "0  BelGrid-UCL          NaN         \n",
       "1  UKI-SOUTHGRID-RALPP  NaN         \n",
       "2  DESY-HH              UCSDT2      \n",
       "3  DESY-HH              UCSDT2      \n",
       "4  UCSDT2               KR-KNU-T3   \n",
       "5  KR-KNU-T3            NaN         \n",
       "6  CIT_CMS_T2           KR-KNU-T3   \n",
       "7  BEIJING-LCG2         NaN         \n",
       "8  NaN                  INFN-T1     \n",
       "9  DESY-HH              UCSDT2      \n",
       "\n",
       "                                                                                                                                                                                                                                                                                                                    error  \\\n",
       "0  TRANSFER  Transfer canceled because the gsiftp performance marker timeout of 360 seconds has been exceeded, or all performance markers during that period indicated zero bytes transferred                                                                                                                               \n",
       "1  TRANSFER  Transfer canceled because the gsiftp performance marker timeout of 360 seconds has been exceeded, or all performance markers during that period indicated zero bytes transferred                                                                                                                               \n",
       "2  srm-ifce err: Communication error on send, err: [SE][Ls][] httpg://dcache-se-cms.desy.de:8443/srm/managerv2: CGSI-gSOAP running on cmsftssrv1.fnal.gov reports could not open connection to dcache-se-cms.desy.de:8443                                                                                                   \n",
       "3  srm-ifce err: Communication error on send, err: [SE][Ls][] httpg://dcache-se-cms.desy.de:8443/srm/managerv2: CGSI-gSOAP running on cmsftssrv1.fnal.gov reports could not open connection to dcache-se-cms.desy.de:8443                                                                                                   \n",
       "4  TRANSFER  globus_ftp_client: the server responded with an error 500 Command failed. : open/create : [ERROR] Server responded with an error: [3021] Unable to get quota space - quota not defined or exhausted /eos/cms/store/user/chench/JetHT/C/191107_211030/0000/log/cmsRun_394.log.tar.gz; Disk quota exceeded       \n",
       "5  TRANSFER  globus_xio: Unable to connect to dpms29.indiacms.res.in:2811 globus_xio: System error in connect: Connection timed out globus_xio: A system call failed: Connection timed out                                                                                                                                  \n",
       "6  TRANSFER  globus_ftp_client: the server responded with an error 500 Command failed. : open/create : [ERROR] Server responded with an error: [3021] Unable to get quota space - quota not defined or exhausted /eos/cms/store/user/chench/JetHT/E/191107_204933/0000/log/cmsRun_679.log.tar.gz; Disk quota exceeded       \n",
       "7  TRANSFER  Operation timed out                                                                                                                                                                                                                                                                                            \n",
       "8  TRANSFER  Transfer canceled because the gsiftp performance marker timeout of 360 seconds has been exceeded, or all performance markers during that period indicated zero bytes transferred                                                                                                                               \n",
       "9  srm-ifce err: Communication error on send, err: [SE][Ls][] httpg://dcache-se-cms.desy.de:8443/srm/managerv2: CGSI-gSOAP running on cmsftssrv1.fnal.gov reports could not open connection to dcache-se-cms.desy.de:8443                                                                                                   \n",
       "\n",
       "  type  \n",
       "0  cms  \n",
       "1  cms  \n",
       "2  cms  \n",
       "3  cms  \n",
       "4  cms  \n",
       "5  cms  \n",
       "6  cms  \n",
       "7  cms  \n",
       "8  cms  \n",
       "9  cms  "
      ]
     },
     "execution_count": 72,
     "metadata": {},
     "output_type": "execute_result"
    }
   ],
   "source": [
    "df.head(10)"
   ]
  },
  {
   "cell_type": "markdown",
   "metadata": {},
   "source": [
    "Most failing sites according to the results from Panos algorithm"
   ]
  },
  {
   "cell_type": "code",
   "execution_count": 73,
   "metadata": {},
   "outputs": [
    {
     "data": {
      "image/png": "[encoded data removed]",
      "text/plain": [
       "<IPython.core.display.Image object>"
      ]
     },
     "execution_count": 73,
     "metadata": {},
     "output_type": "execute_result"
    }
   ],
   "source": [
    "from IPython.display import Image\n",
    "Image(filename='tot_fail.png')"
   ]
  },
  {
   "cell_type": "markdown",
   "metadata": {},
   "source": [
    "Chose with a few with the biggest fail rate"
   ]
  },
  {
   "cell_type": "code",
   "execution_count": 74,
   "metadata": {},
   "outputs": [
    {
     "name": "stdout",
     "output_type": "stream",
     "text": [
      "(28475, 4) (20487, 4)\n"
     ]
    }
   ],
   "source": [
    "df_krknu = df[df['src_site']=='KR-KNU-T3']\n",
    "df_ucl = df[df['src_site']=='BelGrid-UCL']\n",
    "print(df_krknu.shape, df_ucl.shape)"
   ]
  },
  {
   "cell_type": "code",
   "execution_count": 75,
   "metadata": {},
   "outputs": [],
   "source": [
    "cluster_krknu = pipeline.Chain(df_krknu, target='error', model_name='word2vec_krknu.model', mode='create')\n",
    "cluster_ucl = pipeline.Chain(df_ucl, target='error', model_name='word2vec_ucl.model', mode='create')"
   ]
  },
  {
   "cell_type": "code",
   "execution_count": 76,
   "metadata": {},
   "outputs": [
    {
     "name": "stderr",
     "output_type": "stream",
     "text": [
      "/home/ntuckus/test/error-log-clustering/jupyter/clusterlogs/pipeline.py:76: SettingWithCopyWarning: \n",
      "A value is trying to be set on a copy of a slice from a DataFrame.\n",
      "Try using .loc[row_indexer,col_indexer] = value instead\n",
      "\n",
      "See the caveats in the documentation: http://pandas.pydata.org/pandas-docs/stable/user_guide/indexing.html#returning-a-view-versus-a-copy\n",
      "  self.df['sequence'] = self.tokens.tokenized_cluster\n",
      "/home/ntuckus/test/error-log-clustering/jupyter/clusterlogs/pipeline.py:77: SettingWithCopyWarning: \n",
      "A value is trying to be set on a copy of a slice from a DataFrame.\n",
      "Try using .loc[row_indexer,col_indexer] = value instead\n",
      "\n",
      "See the caveats in the documentation: http://pandas.pydata.org/pandas-docs/stable/user_guide/indexing.html#returning-a-view-versus-a-copy\n",
      "  self.df['tokenized_pattern'] = self.tokens.tokenized_pattern\n"
     ]
    },
    {
     "name": "stdout",
     "output_type": "stream",
     "text": [
      "Initial size of vocabulary: 4415\n",
      "Size of vocabulary after removing tokens that appears only once: 2032\n",
      "Size of vocabulary after removing rare tokens: 425\n",
      "Tokenization finished\n"
     ]
    },
    {
     "name": "stderr",
     "output_type": "stream",
     "text": [
      "/home/ntuckus/test/error-log-clustering/jupyter/clusterlogs/pipeline.py:79: SettingWithCopyWarning: \n",
      "A value is trying to be set on a copy of a slice from a DataFrame.\n",
      "Try using .loc[row_indexer,col_indexer] = value instead\n",
      "\n",
      "See the caveats in the documentation: http://pandas.pydata.org/pandas-docs/stable/user_guide/indexing.html#returning-a-view-versus-a-copy\n",
      "  self.df['cleaned'] = self.tokens.detokenize(cleaned_tokens)\n"
     ]
    },
    {
     "name": "stdout",
     "output_type": "stream",
     "text": [
      "Found 206 equal groups\n",
      "Matching Clusterization...\n",
      "Finished with 109 clusters\n"
     ]
    },
    {
     "name": "stderr",
     "output_type": "stream",
     "text": [
      "/home/ntuckus/test/error-log-clustering/jupyter/clusterlogs/pipeline.py:76: SettingWithCopyWarning: \n",
      "A value is trying to be set on a copy of a slice from a DataFrame.\n",
      "Try using .loc[row_indexer,col_indexer] = value instead\n",
      "\n",
      "See the caveats in the documentation: http://pandas.pydata.org/pandas-docs/stable/user_guide/indexing.html#returning-a-view-versus-a-copy\n",
      "  self.df['sequence'] = self.tokens.tokenized_cluster\n",
      "/home/ntuckus/test/error-log-clustering/jupyter/clusterlogs/pipeline.py:77: SettingWithCopyWarning: \n",
      "A value is trying to be set on a copy of a slice from a DataFrame.\n",
      "Try using .loc[row_indexer,col_indexer] = value instead\n",
      "\n",
      "See the caveats in the documentation: http://pandas.pydata.org/pandas-docs/stable/user_guide/indexing.html#returning-a-view-versus-a-copy\n",
      "  self.df['tokenized_pattern'] = self.tokens.tokenized_pattern\n"
     ]
    },
    {
     "name": "stdout",
     "output_type": "stream",
     "text": [
      "Initial size of vocabulary: 545\n",
      "Size of vocabulary after removing tokens that appears only once: 280\n",
      "Size of vocabulary after removing rare tokens: 192\n",
      "Tokenization finished\n"
     ]
    },
    {
     "name": "stderr",
     "output_type": "stream",
     "text": [
      "/home/ntuckus/test/error-log-clustering/jupyter/clusterlogs/pipeline.py:79: SettingWithCopyWarning: \n",
      "A value is trying to be set on a copy of a slice from a DataFrame.\n",
      "Try using .loc[row_indexer,col_indexer] = value instead\n",
      "\n",
      "See the caveats in the documentation: http://pandas.pydata.org/pandas-docs/stable/user_guide/indexing.html#returning-a-view-versus-a-copy\n",
      "  self.df['cleaned'] = self.tokens.detokenize(cleaned_tokens)\n"
     ]
    },
    {
     "name": "stdout",
     "output_type": "stream",
     "text": [
      "Found 64 equal groups\n",
      "Matching Clusterization...\n",
      "Finished with 40 clusters\n"
     ]
    }
   ],
   "source": [
    "cluster_krknu.process()\n",
    "cluster_ucl.process()"
   ]
  },
  {
   "cell_type": "markdown",
   "metadata": {},
   "source": [
    "Separating clusters containing fewer than 3 messages"
   ]
  },
  {
   "cell_type": "code",
   "execution_count": 77,
   "metadata": {},
   "outputs": [],
   "source": [
    "clusters_krknu, outliers_krknu = cluster_krknu.split_clusters(cluster_krknu.result, 'cluster_size', threshold=3)\n",
    "clusters_ucl, outliers_ucl = cluster_ucl.split_clusters(cluster_ucl.result, 'cluster_size', threshold=3)"
   ]
  },
  {
   "cell_type": "markdown",
   "metadata": {},
   "source": [
    "\n",
    "Top 10 clusters by the size of cluster in each group"
   ]
  },
  {
   "cell_type": "code",
   "execution_count": 78,
   "metadata": {},
   "outputs": [
    {
     "data": {
      "text/html": [
       "<div>\n",
       "<style scoped>\n",
       "    .dataframe tbody tr th:only-of-type {\n",
       "        vertical-align: middle;\n",
       "    }\n",
       "\n",
       "    .dataframe tbody tr th {\n",
       "        vertical-align: top;\n",
       "    }\n",
       "\n",
       "    .dataframe thead th {\n",
       "        text-align: right;\n",
       "    }\n",
       "</style>\n",
       "<table border=\"1\" class=\"dataframe\">\n",
       "  <thead>\n",
       "    <tr style=\"text-align: right;\">\n",
       "      <th></th>\n",
       "      <th>cluster_size</th>\n",
       "      <th>pattern</th>\n",
       "      <th>mean_similarity</th>\n",
       "    </tr>\n",
       "  </thead>\n",
       "  <tbody>\n",
       "    <tr>\n",
       "      <td>0</td>\n",
       "      <td>6327</td>\n",
       "      <td>｟*｠ globus_ftp_client: the server responded with an error 421 Service busy: Connection limit exceeded. Please try again later. Closing control connection.</td>\n",
       "      <td>0.93</td>\n",
       "    </tr>\n",
       "    <tr>\n",
       "      <td>1</td>\n",
       "      <td>5119</td>\n",
       "      <td>｟*｠ globus_xio: Unable to connect to｟*｠:2811 globus_xio: System error in connect: Connection｟*｠ globus_xio: A system call failed: Connection｟*｠</td>\n",
       "      <td>0.80</td>\n",
       "    </tr>\n",
       "    <tr>\n",
       "      <td>2</td>\n",
       "      <td>3862</td>\n",
       "      <td>globus_ftp_client: the server responded with an error 530 530-globus_xio: Authentication Error 530-OpenSSL Error: s3_srvr.c:3327: in library: SSL routines, function ssl3_get_client_certificate: certificate verify failed 530-globus_gsi_callback_module: Could not verify credential 530-globus_gsi_callback_module: The certificate has expired: Credential with subject: /DC=ch/DC=cern/OU=Organic Units/OU=Users/CN=｟*｠/CN=｟*｠/CN=｟*｠/CN=｟*｠/CN=｟*｠/CN=｟*｠ has expired. 530｟*｠.</td>\n",
       "      <td>0.93</td>\n",
       "    </tr>\n",
       "    <tr>\n",
       "      <td>3</td>\n",
       "      <td>3314</td>\n",
       "      <td>TRANSFER globus_ftp_client: the server responded with an error 500 Command failed. : open/create : [ERROR] Server responded with an error: [3021] Unable to get quota space - quota not defined or exhausted /eos/cms/store/user/fengwang/crab_2019-10-29_MuMuTauTauLimits_HybridNew_v1/mmmt_mm_h_parametric_unbinned_lowmassWith1DFitsDoubleExpo/｟*｠/｟*｠/Combine/crab_2019-10-29_MuMuTauTauLimits_HybridNew_v1/｟*｠/0000/｟*｠; Disk quota exceeded</td>\n",
       "      <td>0.98</td>\n",
       "    </tr>\n",
       "    <tr>\n",
       "      <td>4</td>\n",
       "      <td>3184</td>\n",
       "      <td>TRANSFER globus_ftp_client: the server responded with an error 500 Command failed. : open/create : [ERROR] Server responded with an error: [3021] Unable to get quota space - quota not defined or exhausted /eos/｟*｠/store/user/｟*｠/｟*｠/｟*｠/｟*｠/｟*｠/｟*｠; Disk quota exceeded</td>\n",
       "      <td>0.71</td>\n",
       "    </tr>\n",
       "    <tr>\n",
       "      <td>5</td>\n",
       "      <td>1472</td>\n",
       "      <td>｟*｠ srm-ifce err: Communication error on send, err: [SE][｟*｠][] httpg:/｟*｠:｟*｠/srm/managerv2: CGSI-gSOAP running on｟*｠ reports Error reading token data header: Connection｟*｠</td>\n",
       "      <td>0.76</td>\n",
       "    </tr>\n",
       "    <tr>\n",
       "      <td>6</td>\n",
       "      <td>927</td>\n",
       "      <td>TRANSFER Operation timed out</td>\n",
       "      <td>1.00</td>\n",
       "    </tr>\n",
       "    <tr>\n",
       "      <td>7</td>\n",
       "      <td>864</td>\n",
       "      <td>globus_ftp_client: the server responded with an error 530 530-Login incorrect. : globus_gss_assist: Error invoking callout 530-globus_callout_module: The callout returned an error 530-an unknown error occurred 530 End.</td>\n",
       "      <td>1.00</td>\n",
       "    </tr>\n",
       "    <tr>\n",
       "      <td>8</td>\n",
       "      <td>521</td>\n",
       "      <td>TRANSFER Transfer canceled because the gsiftp performance marker timeout of 360 seconds has been exceeded, or all performance markers during that period indicated zero bytes transferred</td>\n",
       "      <td>1.00</td>\n",
       "    </tr>\n",
       "    <tr>\n",
       "      <td>9</td>\n",
       "      <td>468</td>\n",
       "      <td>｟*｠ globus_xio: System error in recv: Connection reset by peer globus_xio: A system call failed: Connection reset by peer</td>\n",
       "      <td>0.88</td>\n",
       "    </tr>\n",
       "  </tbody>\n",
       "</table>\n",
       "</div>"
      ],
      "text/plain": [
       "   cluster_size  \\\n",
       "0  6327           \n",
       "1  5119           \n",
       "2  3862           \n",
       "3  3314           \n",
       "4  3184           \n",
       "5  1472           \n",
       "6  927            \n",
       "7  864            \n",
       "8  521            \n",
       "9  468            \n",
       "\n",
       "                                                                                                                                                                                                                                                                                                                                                                                                                                                                                 pattern  \\\n",
       "0  ｟*｠ globus_ftp_client: the server responded with an error 421 Service busy: Connection limit exceeded. Please try again later. Closing control connection.                                                                                                                                                                                                                                                                                                                              \n",
       "1  ｟*｠ globus_xio: Unable to connect to｟*｠:2811 globus_xio: System error in connect: Connection｟*｠ globus_xio: A system call failed: Connection｟*｠                                                                                                                                                                                                                                                                                                                                         \n",
       "2  globus_ftp_client: the server responded with an error 530 530-globus_xio: Authentication Error 530-OpenSSL Error: s3_srvr.c:3327: in library: SSL routines, function ssl3_get_client_certificate: certificate verify failed 530-globus_gsi_callback_module: Could not verify credential 530-globus_gsi_callback_module: The certificate has expired: Credential with subject: /DC=ch/DC=cern/OU=Organic Units/OU=Users/CN=｟*｠/CN=｟*｠/CN=｟*｠/CN=｟*｠/CN=｟*｠/CN=｟*｠ has expired. 530｟*｠.   \n",
       "3  TRANSFER globus_ftp_client: the server responded with an error 500 Command failed. : open/create : [ERROR] Server responded with an error: [3021] Unable to get quota space - quota not defined or exhausted /eos/cms/store/user/fengwang/crab_2019-10-29_MuMuTauTauLimits_HybridNew_v1/mmmt_mm_h_parametric_unbinned_lowmassWith1DFitsDoubleExpo/｟*｠/｟*｠/Combine/crab_2019-10-29_MuMuTauTauLimits_HybridNew_v1/｟*｠/0000/｟*｠; Disk quota exceeded                                       \n",
       "4  TRANSFER globus_ftp_client: the server responded with an error 500 Command failed. : open/create : [ERROR] Server responded with an error: [3021] Unable to get quota space - quota not defined or exhausted /eos/｟*｠/store/user/｟*｠/｟*｠/｟*｠/｟*｠/｟*｠/｟*｠; Disk quota exceeded                                                                                                                                                                                                           \n",
       "5  ｟*｠ srm-ifce err: Communication error on send, err: [SE][｟*｠][] httpg:/｟*｠:｟*｠/srm/managerv2: CGSI-gSOAP running on｟*｠ reports Error reading token data header: Connection｟*｠                                                                                                                                                                                                                                                                                                           \n",
       "6  TRANSFER Operation timed out                                                                                                                                                                                                                                                                                                                                                                                                                                                            \n",
       "7  globus_ftp_client: the server responded with an error 530 530-Login incorrect. : globus_gss_assist: Error invoking callout 530-globus_callout_module: The callout returned an error 530-an unknown error occurred 530 End.                                                                                                                                                                                                                                                              \n",
       "8  TRANSFER Transfer canceled because the gsiftp performance marker timeout of 360 seconds has been exceeded, or all performance markers during that period indicated zero bytes transferred                                                                                                                                                                                                                                                                                               \n",
       "9  ｟*｠ globus_xio: System error in recv: Connection reset by peer globus_xio: A system call failed: Connection reset by peer                                                                                                                                                                                                                                                                                                                                                               \n",
       "\n",
       "   mean_similarity  \n",
       "0  0.93             \n",
       "1  0.80             \n",
       "2  0.93             \n",
       "3  0.98             \n",
       "4  0.71             \n",
       "5  0.76             \n",
       "6  1.00             \n",
       "7  1.00             \n",
       "8  1.00             \n",
       "9  0.88             "
      ]
     },
     "execution_count": 78,
     "metadata": {},
     "output_type": "execute_result"
    }
   ],
   "source": [
    "#KR-KNU-T3\n",
    "top_numb = 10\n",
    "top_clusters_krknu = cluster_krknu.validation(clusters_krknu)[['cluster_size','pattern','mean_similarity']].sort_values(by=[\"cluster_size\"], ascending=False) #clusters sorted by similarity inside the cluster\n",
    "top_clusters_krknu.head(top_numb)"
   ]
  },
  {
   "cell_type": "code",
   "execution_count": 79,
   "metadata": {},
   "outputs": [
    {
     "data": {
      "text/html": [
       "<div>\n",
       "<style scoped>\n",
       "    .dataframe tbody tr th:only-of-type {\n",
       "        vertical-align: middle;\n",
       "    }\n",
       "\n",
       "    .dataframe tbody tr th {\n",
       "        vertical-align: top;\n",
       "    }\n",
       "\n",
       "    .dataframe thead th {\n",
       "        text-align: right;\n",
       "    }\n",
       "</style>\n",
       "<table border=\"1\" class=\"dataframe\">\n",
       "  <thead>\n",
       "    <tr style=\"text-align: right;\">\n",
       "      <th></th>\n",
       "      <th>cluster_size</th>\n",
       "      <th>pattern</th>\n",
       "      <th>mean_similarity</th>\n",
       "    </tr>\n",
       "  </thead>\n",
       "  <tbody>\n",
       "    <tr>\n",
       "      <td>0</td>\n",
       "      <td>11336</td>\n",
       "      <td>TRANSFER Transfer canceled because the gsiftp performance marker timeout of 360 seconds has been exceeded, or all performance markers during that period indicated zero bytes transferred</td>\n",
       "      <td>1.00</td>\n",
       "    </tr>\n",
       "    <tr>\n",
       "      <td>1</td>\n",
       "      <td>4918</td>\n",
       "      <td>TRANSFER an end-of-file was reached globus_xio: An end of file occurred</td>\n",
       "      <td>1.00</td>\n",
       "    </tr>\n",
       "    <tr>\n",
       "      <td>2</td>\n",
       "      <td>1312</td>\n",
       "      <td>SOURCE CHECKSUM an end-of-file was reached globus_xio: An end of file occurred</td>\n",
       "      <td>1.00</td>\n",
       "    </tr>\n",
       "    <tr>\n",
       "      <td>3</td>\n",
       "      <td>1060</td>\n",
       "      <td>Destination file exists and overwrite is not enabled</td>\n",
       "      <td>1.00</td>\n",
       "    </tr>\n",
       "    <tr>\n",
       "      <td>4</td>\n",
       "      <td>568</td>\n",
       "      <td>TRANSFER Operation timed out</td>\n",
       "      <td>1.00</td>\n",
       "    </tr>\n",
       "    <tr>\n",
       "      <td>5</td>\n",
       "      <td>481</td>\n",
       "      <td>TRANSFER globus_xio: System error in recv: Connection timed out globus_xio: A system call failed: Connection timed out</td>\n",
       "      <td>1.00</td>\n",
       "    </tr>\n",
       "    <tr>\n",
       "      <td>6</td>\n",
       "      <td>307</td>\n",
       "      <td>｟*｠ globus_xio: System error in recv: Connection reset by peer globus_xio: A system call failed: Connection reset by peer</td>\n",
       "      <td>0.95</td>\n",
       "    </tr>\n",
       "    <tr>\n",
       "      <td>7</td>\n",
       "      <td>188</td>\n",
       "      <td>TRANSFER globus_ftp_client: the server responded with an error 451 451-GlobusError: v=1 c=INTERNAL_ERROR 451-GridFTP-Errno: 255 451-GridFTP-Reason: System error in write into HDFS (host=｟*｠, user=｟*｠, path=/store/｟*｠/｟*｠/｟*｠/｟*｠/｟*｠/｟*｠/｟*｠) 451-GridFTP-Error-String: Unknown error 255 451 End.</td>\n",
       "      <td>0.78</td>\n",
       "    </tr>\n",
       "    <tr>\n",
       "      <td>8</td>\n",
       "      <td>107</td>\n",
       "      <td>｟*｠ srm-ifce err: Communication error on send, err: [SE][｟*｠][] httpg:/dcache-se-cms.desy.de:8443/srm/managerv2: CGSI-gSOAP running on t3serv019.mit.edu reports could not open connection to dcache-se-cms.desy.de:8443</td>\n",
       "      <td>0.96</td>\n",
       "    </tr>\n",
       "    <tr>\n",
       "      <td>9</td>\n",
       "      <td>52</td>\n",
       "      <td>｟*｠ globus_xio: Unable to connect to｟*｠:2811 globus_xio: System error in connect: Connection timed out globus_xio: A system call failed: Connection timed out</td>\n",
       "      <td>0.87</td>\n",
       "    </tr>\n",
       "  </tbody>\n",
       "</table>\n",
       "</div>"
      ],
      "text/plain": [
       "   cluster_size  \\\n",
       "0  11336          \n",
       "1  4918           \n",
       "2  1312           \n",
       "3  1060           \n",
       "4  568            \n",
       "5  481            \n",
       "6  307            \n",
       "7  188            \n",
       "8  107            \n",
       "9  52             \n",
       "\n",
       "                                                                                                                                                                                                                                                                                                  pattern  \\\n",
       "0  TRANSFER Transfer canceled because the gsiftp performance marker timeout of 360 seconds has been exceeded, or all performance markers during that period indicated zero bytes transferred                                                                                                                \n",
       "1  TRANSFER an end-of-file was reached globus_xio: An end of file occurred                                                                                                                                                                                                                                  \n",
       "2  SOURCE CHECKSUM an end-of-file was reached globus_xio: An end of file occurred                                                                                                                                                                                                                           \n",
       "3  Destination file exists and overwrite is not enabled                                                                                                                                                                                                                                                     \n",
       "4  TRANSFER Operation timed out                                                                                                                                                                                                                                                                             \n",
       "5  TRANSFER globus_xio: System error in recv: Connection timed out globus_xio: A system call failed: Connection timed out                                                                                                                                                                                   \n",
       "6  ｟*｠ globus_xio: System error in recv: Connection reset by peer globus_xio: A system call failed: Connection reset by peer                                                                                                                                                                                \n",
       "7  TRANSFER globus_ftp_client: the server responded with an error 451 451-GlobusError: v=1 c=INTERNAL_ERROR 451-GridFTP-Errno: 255 451-GridFTP-Reason: System error in write into HDFS (host=｟*｠, user=｟*｠, path=/store/｟*｠/｟*｠/｟*｠/｟*｠/｟*｠/｟*｠/｟*｠) 451-GridFTP-Error-String: Unknown error 255 451 End.   \n",
       "8  ｟*｠ srm-ifce err: Communication error on send, err: [SE][｟*｠][] httpg:/dcache-se-cms.desy.de:8443/srm/managerv2: CGSI-gSOAP running on t3serv019.mit.edu reports could not open connection to dcache-se-cms.desy.de:8443                                                                                 \n",
       "9  ｟*｠ globus_xio: Unable to connect to｟*｠:2811 globus_xio: System error in connect: Connection timed out globus_xio: A system call failed: Connection timed out                                                                                                                                            \n",
       "\n",
       "   mean_similarity  \n",
       "0  1.00             \n",
       "1  1.00             \n",
       "2  1.00             \n",
       "3  1.00             \n",
       "4  1.00             \n",
       "5  1.00             \n",
       "6  0.95             \n",
       "7  0.78             \n",
       "8  0.96             \n",
       "9  0.87             "
      ]
     },
     "execution_count": 79,
     "metadata": {},
     "output_type": "execute_result"
    }
   ],
   "source": [
    "#BelGrid-UCL\n",
    "top_clusters_ucl = cluster_ucl.validation(clusters_ucl)[['cluster_size','pattern','mean_similarity']].sort_values(by=[\"cluster_size\"], ascending=False) #clusters sorted by similarity inside the cluster\n",
    "top_clusters_ucl.head(top_numb)"
   ]
  },
  {
   "cell_type": "markdown",
   "metadata": {},
   "source": [
    "Most inaccurate clusters"
   ]
  },
  {
   "cell_type": "code",
   "execution_count": 80,
   "metadata": {},
   "outputs": [
    {
     "data": {
      "text/html": [
       "<div>\n",
       "<style scoped>\n",
       "    .dataframe tbody tr th:only-of-type {\n",
       "        vertical-align: middle;\n",
       "    }\n",
       "\n",
       "    .dataframe tbody tr th {\n",
       "        vertical-align: top;\n",
       "    }\n",
       "\n",
       "    .dataframe thead th {\n",
       "        text-align: right;\n",
       "    }\n",
       "</style>\n",
       "<table border=\"1\" class=\"dataframe\">\n",
       "  <thead>\n",
       "    <tr style=\"text-align: right;\">\n",
       "      <th></th>\n",
       "      <th>cluster_size</th>\n",
       "      <th>pattern</th>\n",
       "      <th>mean_similarity</th>\n",
       "    </tr>\n",
       "  </thead>\n",
       "  <tbody>\n",
       "    <tr>\n",
       "      <td>4</td>\n",
       "      <td>3184</td>\n",
       "      <td>TRANSFER globus_ftp_client: the server responded with an error 500 Command failed. : open/create : [ERROR] Server responded with an error: [3021] Unable to get quota space - quota not defined or exhausted /eos/｟*｠/store/user/｟*｠/｟*｠/｟*｠/｟*｠/｟*｠/｟*｠; Disk quota exceeded</td>\n",
       "      <td>0.71</td>\n",
       "    </tr>\n",
       "    <tr>\n",
       "      <td>5</td>\n",
       "      <td>1472</td>\n",
       "      <td>｟*｠ srm-ifce err: Communication error on send, err: [SE][｟*｠][] httpg:/｟*｠:｟*｠/srm/managerv2: CGSI-gSOAP running on｟*｠ reports Error reading token data header: Connection｟*｠</td>\n",
       "      <td>0.76</td>\n",
       "    </tr>\n",
       "    <tr>\n",
       "      <td>19</td>\n",
       "      <td>91</td>\n",
       "      <td>TRANSFER globus_ftp_client: the server responded with an error 500 500-Command failed. : globus_xio: System error in｟*｠: Connection timed out 500-globus_xio: A system call failed: Connection timed out 500 End.</td>\n",
       "      <td>0.77</td>\n",
       "    </tr>\n",
       "    <tr>\n",
       "      <td>1</td>\n",
       "      <td>5119</td>\n",
       "      <td>｟*｠ globus_xio: Unable to connect to｟*｠:2811 globus_xio: System error in connect: Connection｟*｠ globus_xio: A system call failed: Connection｟*｠</td>\n",
       "      <td>0.80</td>\n",
       "    </tr>\n",
       "    <tr>\n",
       "      <td>29</td>\n",
       "      <td>29</td>\n",
       "      <td>DESTINATION SRM_PUTDONE call to srm_ifce error: [SE][PutDone][] httpg:/｟*｠:8443/srm/managerv2: CGSI-gSOAP running on｟*｠ reports Error reading token data header: Connection｟*｠</td>\n",
       "      <td>0.82</td>\n",
       "    </tr>\n",
       "  </tbody>\n",
       "</table>\n",
       "</div>"
      ],
      "text/plain": [
       "    cluster_size  \\\n",
       "4   3184           \n",
       "5   1472           \n",
       "19  91             \n",
       "1   5119           \n",
       "29  29             \n",
       "\n",
       "                                                                                                                                                                                                                                                                          pattern  \\\n",
       "4   TRANSFER globus_ftp_client: the server responded with an error 500 Command failed. : open/create : [ERROR] Server responded with an error: [3021] Unable to get quota space - quota not defined or exhausted /eos/｟*｠/store/user/｟*｠/｟*｠/｟*｠/｟*｠/｟*｠/｟*｠; Disk quota exceeded   \n",
       "5   ｟*｠ srm-ifce err: Communication error on send, err: [SE][｟*｠][] httpg:/｟*｠:｟*｠/srm/managerv2: CGSI-gSOAP running on｟*｠ reports Error reading token data header: Connection｟*｠                                                                                                   \n",
       "19  TRANSFER globus_ftp_client: the server responded with an error 500 500-Command failed. : globus_xio: System error in｟*｠: Connection timed out 500-globus_xio: A system call failed: Connection timed out 500 End.                                                               \n",
       "1   ｟*｠ globus_xio: Unable to connect to｟*｠:2811 globus_xio: System error in connect: Connection｟*｠ globus_xio: A system call failed: Connection｟*｠                                                                                                                                 \n",
       "29  DESTINATION SRM_PUTDONE call to srm_ifce error: [SE][PutDone][] httpg:/｟*｠:8443/srm/managerv2: CGSI-gSOAP running on｟*｠ reports Error reading token data header: Connection｟*｠                                                                                                  \n",
       "\n",
       "    mean_similarity  \n",
       "4   0.71             \n",
       "5   0.76             \n",
       "19  0.77             \n",
       "1   0.80             \n",
       "29  0.82             "
      ]
     },
     "execution_count": 80,
     "metadata": {},
     "output_type": "execute_result"
    }
   ],
   "source": [
    "#KR-KNU-T3\n",
    "top_clusters_krknu[['cluster_size','pattern','mean_similarity']].sort_values(by=[\"mean_similarity\"]).head(5)"
   ]
  },
  {
   "cell_type": "code",
   "execution_count": 81,
   "metadata": {
    "scrolled": true
   },
   "outputs": [
    {
     "data": {
      "text/html": [
       "<div>\n",
       "<style scoped>\n",
       "    .dataframe tbody tr th:only-of-type {\n",
       "        vertical-align: middle;\n",
       "    }\n",
       "\n",
       "    .dataframe tbody tr th {\n",
       "        vertical-align: top;\n",
       "    }\n",
       "\n",
       "    .dataframe thead th {\n",
       "        text-align: right;\n",
       "    }\n",
       "</style>\n",
       "<table border=\"1\" class=\"dataframe\">\n",
       "  <thead>\n",
       "    <tr style=\"text-align: right;\">\n",
       "      <th></th>\n",
       "      <th>cluster_size</th>\n",
       "      <th>pattern</th>\n",
       "      <th>mean_similarity</th>\n",
       "    </tr>\n",
       "  </thead>\n",
       "  <tbody>\n",
       "    <tr>\n",
       "      <td>7</td>\n",
       "      <td>188</td>\n",
       "      <td>TRANSFER globus_ftp_client: the server responded with an error 451 451-GlobusError: v=1 c=INTERNAL_ERROR 451-GridFTP-Errno: 255 451-GridFTP-Reason: System error in write into HDFS (host=｟*｠, user=｟*｠, path=/store/｟*｠/｟*｠/｟*｠/｟*｠/｟*｠/｟*｠/｟*｠) 451-GridFTP-Error-String: Unknown error 255 451 End.</td>\n",
       "      <td>0.78</td>\n",
       "    </tr>\n",
       "    <tr>\n",
       "      <td>9</td>\n",
       "      <td>52</td>\n",
       "      <td>｟*｠ globus_xio: Unable to connect to｟*｠:2811 globus_xio: System error in connect: Connection timed out globus_xio: A system call failed: Connection timed out</td>\n",
       "      <td>0.87</td>\n",
       "    </tr>\n",
       "    <tr>\n",
       "      <td>12</td>\n",
       "      <td>14</td>\n",
       "      <td>DESTINATION EXISTS Destination already exist gsiftp:/eoscmsftp.cern.ch/eos/cms/store/mc/RunIISummer19UL18wmLHEGEN/｟*｠/｟*｠/106X_upgrade2018_realistic_v4-v1/｟*｠/｟*｠, Cancel</td>\n",
       "      <td>0.89</td>\n",
       "    </tr>\n",
       "    <tr>\n",
       "      <td>23</td>\n",
       "      <td>3</td>\n",
       "      <td>TRANSFER CHECKSUM MISMATCH User defined checksum and destination checksums do not match｟*｠ !=｟*｠</td>\n",
       "      <td>0.91</td>\n",
       "    </tr>\n",
       "    <tr>\n",
       "      <td>25</td>\n",
       "      <td>3</td>\n",
       "      <td>TRANSFER globus_ftp_client: the server responded with an error 500 500-Command failed. : callback failed. 500-globus_xio: System error in｟*｠:｟*｠ 500-globus_xio: A system call failed:｟*｠ 500 End.</td>\n",
       "      <td>0.91</td>\n",
       "    </tr>\n",
       "  </tbody>\n",
       "</table>\n",
       "</div>"
      ],
      "text/plain": [
       "    cluster_size  \\\n",
       "7   188            \n",
       "9   52             \n",
       "12  14             \n",
       "23  3              \n",
       "25  3              \n",
       "\n",
       "                                                                                                                                                                                                                                                                                                   pattern  \\\n",
       "7   TRANSFER globus_ftp_client: the server responded with an error 451 451-GlobusError: v=1 c=INTERNAL_ERROR 451-GridFTP-Errno: 255 451-GridFTP-Reason: System error in write into HDFS (host=｟*｠, user=｟*｠, path=/store/｟*｠/｟*｠/｟*｠/｟*｠/｟*｠/｟*｠/｟*｠) 451-GridFTP-Error-String: Unknown error 255 451 End.   \n",
       "9   ｟*｠ globus_xio: Unable to connect to｟*｠:2811 globus_xio: System error in connect: Connection timed out globus_xio: A system call failed: Connection timed out                                                                                                                                            \n",
       "12  DESTINATION EXISTS Destination already exist gsiftp:/eoscmsftp.cern.ch/eos/cms/store/mc/RunIISummer19UL18wmLHEGEN/｟*｠/｟*｠/106X_upgrade2018_realistic_v4-v1/｟*｠/｟*｠, Cancel                                                                                                                               \n",
       "23  TRANSFER CHECKSUM MISMATCH User defined checksum and destination checksums do not match｟*｠ !=｟*｠                                                                                                                                                                                                         \n",
       "25  TRANSFER globus_ftp_client: the server responded with an error 500 500-Command failed. : callback failed. 500-globus_xio: System error in｟*｠:｟*｠ 500-globus_xio: A system call failed:｟*｠ 500 End.                                                                                                       \n",
       "\n",
       "    mean_similarity  \n",
       "7   0.78             \n",
       "9   0.87             \n",
       "12  0.89             \n",
       "23  0.91             \n",
       "25  0.91             "
      ]
     },
     "execution_count": 81,
     "metadata": {},
     "output_type": "execute_result"
    }
   ],
   "source": [
    "#BelGrid-UCL\n",
    "top_clusters_ucl[['cluster_size','pattern','mean_similarity']].sort_values(by=[\"mean_similarity\"]).head(5)"
   ]
  },
  {
   "cell_type": "code",
   "execution_count": 82,
   "metadata": {},
   "outputs": [
    {
     "data": {
      "text/html": [
       "<div>\n",
       "<style scoped>\n",
       "    .dataframe tbody tr th:only-of-type {\n",
       "        vertical-align: middle;\n",
       "    }\n",
       "\n",
       "    .dataframe tbody tr th {\n",
       "        vertical-align: top;\n",
       "    }\n",
       "\n",
       "    .dataframe thead th {\n",
       "        text-align: right;\n",
       "    }\n",
       "</style>\n",
       "<table border=\"1\" class=\"dataframe\">\n",
       "  <thead>\n",
       "    <tr style=\"text-align: right;\">\n",
       "      <th></th>\n",
       "      <th>tfidf</th>\n",
       "    </tr>\n",
       "  </thead>\n",
       "  <tbody>\n",
       "    <tr>\n",
       "      <td>error</td>\n",
       "      <td>0.416260</td>\n",
       "    </tr>\n",
       "    <tr>\n",
       "      <td>globus_xio</td>\n",
       "      <td>0.215838</td>\n",
       "    </tr>\n",
       "    <tr>\n",
       "      <td>connection</td>\n",
       "      <td>0.215838</td>\n",
       "    </tr>\n",
       "    <tr>\n",
       "      <td>transfer</td>\n",
       "      <td>0.200421</td>\n",
       "    </tr>\n",
       "    <tr>\n",
       "      <td>se</td>\n",
       "      <td>0.200421</td>\n",
       "    </tr>\n",
       "    <tr>\n",
       "      <td>...</td>\n",
       "      <td>...</td>\n",
       "    </tr>\n",
       "    <tr>\n",
       "      <td>globus_gsi_callback_module</td>\n",
       "      <td>0.000000</td>\n",
       "    </tr>\n",
       "    <tr>\n",
       "      <td>globus_gss_assist</td>\n",
       "      <td>0.000000</td>\n",
       "    </tr>\n",
       "    <tr>\n",
       "      <td>gr</td>\n",
       "      <td>0.000000</td>\n",
       "    </tr>\n",
       "    <tr>\n",
       "      <td>grid02</td>\n",
       "      <td>0.000000</td>\n",
       "    </tr>\n",
       "    <tr>\n",
       "      <td>home</td>\n",
       "      <td>0.000000</td>\n",
       "    </tr>\n",
       "  </tbody>\n",
       "</table>\n",
       "<p>410 rows × 1 columns</p>\n",
       "</div>"
      ],
      "text/plain": [
       "                               tfidf\n",
       "error                       0.416260\n",
       "globus_xio                  0.215838\n",
       "connection                  0.215838\n",
       "transfer                    0.200421\n",
       "se                          0.200421\n",
       "...                              ...\n",
       "globus_gsi_callback_module  0.000000\n",
       "globus_gss_assist           0.000000\n",
       "gr                          0.000000\n",
       "grid02                      0.000000\n",
       "home                        0.000000\n",
       "\n",
       "[410 rows x 1 columns]"
      ]
     },
     "execution_count": 82,
     "metadata": {},
     "output_type": "execute_result"
    }
   ],
   "source": [
    "from sklearn.feature_extraction.text import TfidfVectorizer \n",
    "patt = [' '.join(list(clusters_krknu['pattern'])), ' '.join(list(clusters_ucl['pattern']))]\n",
    "\n",
    "tfidf_vectorizer=TfidfVectorizer(use_idf=True)\n",
    " \n",
    "\n",
    "tfidf_vectorizer_vectors=tfidf_vectorizer.fit_transform(patt)\n",
    "\n",
    "first_vector_tfidfvectorizer=tfidf_vectorizer_vectors[1]\n",
    " \n",
    "# place tf-idf values in a pandas data frame\n",
    "df = pd.DataFrame(first_vector_tfidfvectorizer.T.todense(), index=tfidf_vectorizer.get_feature_names(), columns=[\"tfidf\"])\n",
    "df.sort_values(by=[\"tfidf\"],ascending=False)\n"
   ]
  },
  {
   "cell_type": "code",
   "execution_count": 41,
   "metadata": {},
   "outputs": [
    {
     "data": {
      "text/plain": [
       "array(['｟*｠ globus_ftp_client: the server responded with an error 421 Service busy: Connection limit exceeded. Please try again later. Closing control connection.',\n",
       "       '｟*｠ globus_xio: Unable to connect to｟*｠:2811 globus_xio: System error in connect: Connection｟*｠ globus_xio: A system call failed: Connection｟*｠',\n",
       "       'globus_ftp_client: the server responded with an error 530 530-globus_xio: Authentication Error 530-OpenSSL Error: s3_srvr.c:3327: in library: SSL routines, function ssl3_get_client_certificate: certificate verify failed 530-globus_gsi_callback_module: Could not verify credential 530-globus_gsi_callback_module: The certificate has expired: Credential with subject: /DC=ch/DC=cern/OU=Organic Units/OU=Users/CN=｟*｠/CN=｟*｠/CN=｟*｠/CN=｟*｠/CN=｟*｠/CN=｟*｠ has expired. 530｟*｠.',\n",
       "       'TRANSFER globus_ftp_client: the server responded with an error 500 Command failed. : open/create : [ERROR] Server responded with an error: [3021] Unable to get quota space - quota not defined or exhausted /eos/cms/store/user/fengwang/crab_2019-10-29_MuMuTauTauLimits_HybridNew_v1/mmmt_mm_h_parametric_unbinned_lowmassWith1DFitsDoubleExpo/｟*｠/｟*｠/Combine/crab_2019-10-29_MuMuTauTauLimits_HybridNew_v1/｟*｠/0000/｟*｠; Disk quota exceeded',\n",
       "       'TRANSFER globus_ftp_client: the server responded with an error 500 Command failed. : open/create : [ERROR] Server responded with an error: [3021] Unable to get quota space - quota not defined or exhausted /eos/｟*｠/store/user/｟*｠/｟*｠/｟*｠/｟*｠/｟*｠/｟*｠; Disk quota exceeded',\n",
       "       '｟*｠ srm-ifce err: Communication error on send, err: [SE][｟*｠][] httpg:/｟*｠:｟*｠/srm/managerv2: CGSI-gSOAP running on｟*｠ reports Error reading token data header: Connection｟*｠',\n",
       "       'TRANSFER Operation timed out',\n",
       "       'globus_ftp_client: the server responded with an error 530 530-Login incorrect. : globus_gss_assist: Error invoking callout 530-globus_callout_module: The callout returned an error 530-an unknown error occurred 530 End.',\n",
       "       'TRANSFER Transfer canceled because the gsiftp performance marker timeout of 360 seconds has been exceeded, or all performance markers during that period indicated zero bytes transferred',\n",
       "       '｟*｠ globus_xio: System error in recv: Connection reset by peer globus_xio: A system call failed: Connection reset by peer',\n",
       "       'TRANSFER globus_xio: System error in recv: Connection timed out globus_xio: A system call failed: Connection timed out',\n",
       "       'TRANSFER CHECKSUM MISMATCH Source and destination checksums do not match｟*｠ !=｟*｠',\n",
       "       'TRANSFER globus_ftp_client: the server responded with an error 522 Protocol family not supported',\n",
       "       '｟*｠ srm-ifce err: Communication error on send, err: [SE][｟*｠][] httpg:/dcache-se-cms.desy.de:8443/srm/managerv2: CGSI-gSOAP running on｟*｠ reports could not open connection to dcache-se-cms.desy.de:8443',\n",
       "       'Destination file exists and overwrite is not enabled',\n",
       "       'TRANSFER an end-of-file was reached globus_xio: An end of file occurred',\n",
       "       'TRANSFER globus_ftp_client: the server responded with an error 500 Command failed. : Internal server error',\n",
       "       'TRANSFER globus_ftp_client: the server responded with an error 451 451-GlobusError: v=1 c=INTERNAL_ERROR 451-GridFTP-Errno: 255 451-GridFTP-Reason: System error in write into HDFS (host=｟*｠, user=cms, path=/cms/store/｟*｠/｟*｠/｟*｠/｟*｠/｟*｠/｟*｠/｟*｠) 451-GridFTP-Error-String: Unknown error 255 451 End.',\n",
       "       'TRANSFER CHECKSUM MISMATCH User defined checksum and destination checksums do not match｟*｠ !=｟*｠',\n",
       "       'TRANSFER globus_ftp_client: the server responded with an error 500 500-Command failed. : globus_xio: System error in｟*｠: Connection timed out 500-globus_xio: A system call failed: Connection timed out 500 End.',\n",
       "       'globus_ftp_client: the server responded with an error 530 Login incorrect. : Mapped user dynamo@dynamo.mit.edu is invalid.',\n",
       "       'TRANSFER CHECKSUM MISMATCH SRC and DST checksum are different. Source:｟*｠ Destination:｟*｠',\n",
       "       '｟*｠ globus_ftp_client: the server responded with an error 451 451-GlobusError: v=1 c=INTERNAL_ERROR 451-GridFTP-Errno:｟*｠ 451-GridFTP-Reason: System error in name 451-GridFTP-Error-String:｟*｠ 451 End.',\n",
       "       '｟*｠ globus_ftp_client: the server responded with an error 550 550-GlobusError: v=1 c=PATH_NOT_FOUND 550-GridFTP-Errno: 2 550-GridFTP-Reason: System error in｟*｠ 550-GridFTP-Error-String: No such file or directory 550 End.',\n",
       "       'DESTINATION CHECKSUM an end-of-file was reached globus_xio: An end of file occurred',\n",
       "       'Error reported from srm_ifce : 2 [SE][Ls][SRM_INVALID_PATH] No such file or directory',\n",
       "       'Error reported from srm_ifce : 2 [SE][Ls][SRM_INVALID_PATH] No such file or directory /pnfs/sprace.org.br/data/cms/store/mc/RunIISummer19UL17wmLHEGEN/｟*｠/LHE/106X_mc2017_realistic_v6-v1/｟*｠/｟*｠',\n",
       "       'DESTINATION SRM_PUTDONE Error on the surl srm:/srm.ihep.ac.cn/pnfs/ihep.ac.cn/data/cms/store/user/bianjg/｟*｠/｟*｠/｟*｠/0000/log/｟*｠ while putdone : [SE][PutDone][SRM_INTERNAL_ERROR] PreparedStatementCallback; SQL [UPDATE t_inodes SET inlink=inlink +?,imtime=?,ictime=?,igeneration=igeneration+1 WHERE inumber=?]; ERROR: deadlock detected; Detail: Process｟*｠ waits for｟*｠ on｟*｠;｟*｠;Process｟*｠ waits for',\n",
       "       'TRANSFER CHECKSUM MISMATCH USER_DEFINE and SRC checksums are different. bd92135e != 61057730',\n",
       "       'DESTINATION SRM_PUTDONE call to srm_ifce error: [SE][PutDone][] httpg:/｟*｠:8443/srm/managerv2: CGSI-gSOAP running on｟*｠ reports Error reading token data header: Connection｟*｠',\n",
       "       'globus_ftp_client: the server responded with an error 500 500-Command failed : System error in stat: No such file or directory 500-A system call failed: No such file or directory 500 End.',\n",
       "       'DESTINATION SRM_PUT_TURL srm-ifce err: Connection timed out, err: [SE][StatusOfPutRequest][ETIMEDOUT] httpg:/storm-fe-cms.cr.cnaf.infn.it:8444/srm/managerv2: User timeout over',\n",
       "       'SOURCE SRM_GET_TURL error on the turl request : [SE][StatusOfGetRequest][SRM_INTERNAL_ERROR] Pin operation timed out',\n",
       "       'DESTINATION SRM_PUT_TURL error on the turl request : [SE][StatusOfPutRequest][SRM_FAILURE] error accessing｟*｠:/｟*｠/cms/｟*｠: Connection closed by remote end',\n",
       "       'DESTINATION SRM_PUTDONE call to srm_ifce error: [SE][PutDone][] httpg:/dcache-se-cms.desy.de:8443/srm/managerv2: CGSI-gSOAP running on t3serv019.mit.edu reports could not open connection to dcache-se-cms.desy.de:8443',\n",
       "       'TRANSFER globus_ftp_client: the server responded with an error 451 General problem: Problem while connected to 193.205.76.72:｟*｠: Connection timed out',\n",
       "       'Error reported from srm_ifce : 2 [SE][Ls][SRM_INVALID_PATH] No such file or directory /pnfs/hep.ph.ic.ac.uk/data/cms/store/hidata/HIRun2018A/HIMinimumBias9/AOD/04Apr2019-v1/｟*｠/｟*｠',\n",
       "       'TRANSFER globus_ftp_client: the server responded with an error 451 General problem: Failed to connect [2001:320:15:124:c2:da:dc:｟*｠]:｟*｠:｟*｠',\n",
       "       'DESTINATION CHECKSUM globus_ftp_client: the server responded with an error 451 451-GlobusError: v=1 c=INTERNAL_ERROR 451-GridFTP-Errno:｟*｠ 451-GridFTP-Reason: System error in name 451-GridFTP-Error-String:｟*｠ 451 End.',\n",
       "       'TRANSFER globus_ftp_client: the server responded with an error 500 Command failed. : Error closing xrootd file handle',\n",
       "       'DESTINATION SRM_PUTDONE Error on the surl srm:/srm.ihep.ac.cn/pnfs/ihep.ac.cn/data/cms/store/user/bianjg/｟*｠/｟*｠/｟*｠/0000/｟*｠/｟*｠ while putdone : [SE][PutDone][SRM_INTERNAL_ERROR] PreparedStatementCallback; SQL [UPDATE t_inodes SET inlink=inlink +?,imtime=?,ictime=?,igeneration=igeneration+1 WHERE inumber=?]; ERROR: deadlock detected; Detail: Process｟*｠ waits for｟*｠ on｟*｠ of｟*｠ of｟*｠',\n",
       "       'srm-ifce err: Communication error on send, err: [SE][Ls][] httpg:/cmssw3.Princeton.EDU:8443/srm/v2/server: CGSI-gSOAP running on cmsftssrv1.fnal.gov reports could not open connection to cmssw3.Princeton.EDU:8443',\n",
       "       '｟*｠ globus_ftp_client: the server responded with an error 530 Login incorrect. : Server over the user connection limit of 40 (host=｟*｠, user=phedex)',\n",
       "       'TRANSFER globus_ftp_client: the server responded with an error 500 500-Command failed. : globus_xio: Unable to connect to 2001:320:15:124:C2:DA:DC:｟*｠:｟*｠ 500-globus_xio: System error in connect: Connection timed out 500-globus_xio: A system call failed: Connection timed out 500 End.',\n",
       "       'TRANSFER globus_ftp_client: the server responded with an error 426 426-GlobusError: v=1 c=DATA_CHANNEL_COMMUNICATION_FAILURE 426-GridFTP-Errno: 104 426-GridFTP-Reason: System error in name 426-GridFTP-Error-String: Connection reset by peer 426 End.',\n",
       "       'SOURCE SRM_GET_TURL srm-ifce err: Communication error on send, err: [SE][PrepareToGet][] httpg:/osg-se.sprace.org.br:8443/srm/managerv2: CGSI-gSOAP running on t3serv019.mit.edu reports could not open connection to osg-se.sprace.org.br:8443',\n",
       "       'TRANSFER globus_ftp_client: the server responded with an error 500 500-Command failed. : globus_xio: Unable to connect to 2001:BB8:4004:FF:B:0:0:2:｟*｠ 500-globus_xio: System error in connect: Connection timed out 500-globus_xio: A system call failed: Connection timed out 500 End.',\n",
       "       'TRANSFER Operation canceled from gfal2_cancel',\n",
       "       'TRANSFER globus_ftp_client: the server responded with an error 451 General problem: Problem while connected to [2001:6a0:2001:112:12]:｟*｠: Connection reset by peer',\n",
       "       'Checksum value required if mode is not end to end',\n",
       "       'TRANSFER globus_ftp_client: the server responded with an error 451 451-GlobusError: v=1 c=INTERNAL_ERROR 451-GridFTP-Errno: 255 451-GridFTP-Reason: System error in write into HDFS (host=｟*｠, user=phedex, path=/store/PhEDEx_LoadTest07/LoadTest07_Debug_PL_Warsaw/US_Caltech/93/｟*｠) 451-GridFTP-Error-String: Unknown error 255 451 End.',\n",
       "       'Source and destination file size mismatch',\n",
       "       'DESTINATION SRM_PUTDONE Error on the surl srm:/pcncp22.ncp.edu.pk/dpm/ncp.edu.pk/home/cms/store/PhEDEx_LoadTest07/｟*｠/T2_PK_NCP/｟*｠/｟*｠ while putdone : [SE][PutDone][SRM_FAILURE] Incompatible with current file status',\n",
       "       'DESTINATION SRM_PUTDONE Error on the surl srm:/srm.ihep.ac.cn/pnfs/ihep.ac.cn/data/cms/store/user/bianjg/DJpsi_13TeV_SPS_OC_1015_4Nov2019/｟*｠/｟*｠/0000/｟*｠ while putdone : [SE][PutDone][SRM_INTERNAL_ERROR] PreparedStatementCallback; SQL [UPDATE t_inodes SET inlink=inlink +?,imtime=?,ictime=?,igeneration=igeneration+1 WHERE inumber=?]; ERROR: deadlock detected; Detail: Process｟*｠ waits for｟*｠ on｟*｠',\n",
       "       'Error reported from srm_ifce : 2 [SE][Ls][SRM_INVALID_PATH] No such file or directory /pnfs/hep.ph.ic.ac.uk/data/cms/store/mc/PhaseIITDRFall17MiniAOD/DMScalar_top_tChan_Mchi1_Mphi100_14TeV_madgraph/MINIAODSIM/PU200_93X_upgrade2023_realistic_v2-v1/90000/1C9AA1BC-7045-E811-AAFF-D4AE526A33F5.root',\n",
       "       'globus_ftp_client: the server responded with an error 530 530-Login incorrect. : globus_gss_assist: Gridmap lookup failure: Could not map /DC=ch/DC=cern/OU=Organic Units/OU=Users/CN=dellaric/CN=386675/CN=Giuseppe Della Ricca 530- 530 End.',\n",
       "       'srm-ifce err: Communication error on send, err: [SE][Ls][] httpg:/｟*｠:｟*｠/srm/managerv2: CGSI-gSOAP running on｟*｠ reports could not open connection to｟*｠:｟*｠',\n",
       "       'globus_ftp_client: the server responded with an error 500 Command failed : stat64 error: No data available',\n",
       "       'DESTINATION CHECKSUM Operation timed out',\n",
       "       'DESTINATION SRM_PUTDONE Error on the surl srm:/｟*｠/pnfs/｟*｠/data/cms/store/user/｟*｠/｟*｠/｟*｠/｟*｠/0000/｟*｠/｟*｠ while putdone : [SE][PutDone][SRM_INTERNAL_ERROR] PreparedStatementCallback; SQL [UPDATE t_inodes SET inlink=inlink +?,imtime=?,ictime=?,igeneration=igeneration+1 WHERE inumber=?]; ERROR: deadlock detected; Detail: Process｟*｠ waits for ShareLock on transaction｟*｠; blocked by process 1003.;Process 1003 waits｟*｠',\n",
       "       'TRANSFER globus_ftp_client: the server responded with an error 500 500-Command failed. : globus_xio: System error in writev: Connection reset by peer 500-globus_xio: A system call failed: Connection reset by peer 500 End.',\n",
       "       'Operation timed out',\n",
       "       'TRANSFER globus_ftp_client: the server responded with an error 451 General problem: Problem while connected to [2001:948:48:1:｟*｠:1]:｟*｠: Tempo esgotado para conex o',\n",
       "       'DESTINATION SRM_PUT_TURL error on the turl request : [SE][StatusOfPutRequest][SRM_INVALID_PATH] <none>',\n",
       "       'DESTINATION OVERWRITE error reported from srm_ifce, [SE][srmRm][SRM_FAILURE] Connection timed out',\n",
       "       '｟*｠ globus_ftp_client: the server responded with an error 530 Login incorrect. : Server is cancelling transfer due to over-load limit (host=｟*｠, user=cms0004, path=(null)',\n",
       "       '｟*｠ globus_ftp_client: the server responded with an error 530 530-Login incorrect. : /builddir/build/BUILD/globus-gridftp-osg-extensions-0.4/src/osg_extension_dsi.c:check_connection_limit:265: 530-Server over the user connection limit of 50 (host=gridftp1.hepgrid.uerj.br, user=erevored) 530 End.',\n",
       "       'DESTINATION OVERWRITE srm-ifce err: Communication error on send, err: [SE][srmRm][] httpg:/｟*｠:8446/srm/managerv2: CGSI-gSOAP running on｟*｠ reports could not open connection to｟*｠:8446',\n",
       "       'DESTINATION SRM_PUTDONE Error on the surl srm:/grid02.physics.uoi.gr/dpm/physics.uoi.gr/home/cms/store/PhEDEx_LoadTest07/｟*｠/T2_GR_Ioannina/｟*｠/｟*｠ while putdone : [SE][PutDone][SRM_INTERNAL_ERROR] <none>'],\n",
       "      dtype=object)"
      ]
     },
     "execution_count": 41,
     "metadata": {},
     "output_type": "execute_result"
    }
   ],
   "source": [
    "clusters_krknu['pattern'].values"
   ]
  },
  {
   "cell_type": "code",
   "execution_count": 42,
   "metadata": {},
   "outputs": [
    {
     "data": {
      "text/plain": [
       "array(['TRANSFER Transfer canceled because the gsiftp performance marker timeout of 360 seconds has been exceeded, or all performance markers during that period indicated zero bytes transferred',\n",
       "       'TRANSFER an end-of-file was reached globus_xio: An end of file occurred',\n",
       "       'SOURCE CHECKSUM an end-of-file was reached globus_xio: An end of file occurred',\n",
       "       'Destination file exists and overwrite is not enabled',\n",
       "       'TRANSFER Operation timed out',\n",
       "       'TRANSFER globus_xio: System error in recv: Connection timed out globus_xio: A system call failed: Connection timed out',\n",
       "       '｟*｠ globus_xio: System error in recv: Connection reset by peer globus_xio: A system call failed: Connection reset by peer',\n",
       "       'TRANSFER globus_ftp_client: the server responded with an error 451 451-GlobusError: v=1 c=INTERNAL_ERROR 451-GridFTP-Errno: 255 451-GridFTP-Reason: System error in write into HDFS (host=｟*｠, user=｟*｠, path=/store/｟*｠/｟*｠/｟*｠/｟*｠/｟*｠/｟*｠/｟*｠) 451-GridFTP-Error-String: Unknown error 255 451 End.',\n",
       "       '｟*｠ srm-ifce err: Communication error on send, err: [SE][｟*｠][] httpg:/dcache-se-cms.desy.de:8443/srm/managerv2: CGSI-gSOAP running on t3serv019.mit.edu reports could not open connection to dcache-se-cms.desy.de:8443',\n",
       "       '｟*｠ globus_xio: Unable to connect to｟*｠:2811 globus_xio: System error in connect: Connection timed out globus_xio: A system call failed: Connection timed out',\n",
       "       'DESTINATION SRM_PUTDONE call to srm_ifce error: [SE][PutDone][] httpg:/dcache-se-cms.desy.de:8443/srm/managerv2: CGSI-gSOAP running on t3serv019.mit.edu reports could not open connection to dcache-se-cms.desy.de:8443',\n",
       "       'TRANSFER Operation canceled from gfal2_cancel',\n",
       "       'DESTINATION EXISTS Destination already exist gsiftp:/eoscmsftp.cern.ch/eos/cms/store/mc/RunIISummer19UL18wmLHEGEN/｟*｠/｟*｠/106X_upgrade2018_realistic_v4-v1/｟*｠/｟*｠, Cancel',\n",
       "       'SOURCE SRM_GET_TURL srm-ifce err: Communication error on send, err: [SE][PrepareToGet][] httpg:/ingrid-se02.cism.ucl.ac.be:8444/srm/managerv2: CGSI-gSOAP running on t3serv019.mit.edu reports could not open connection to ingrid-se02.cism.ucl.ac.be:8444',\n",
       "       'DESTINATION SRM_PUTDONE call to srm_ifce error: [SE][PutDone][] httpg:/dcache-se-cms.desy.de:8443/srm/managerv2: CGSI-gSOAP running on t3serv019.mit.edu reports Error reading token data header: Connection｟*｠',\n",
       "       'Error reported from srm_ifce : 16 [SE][Ls][SRM_FILE_BUSY] The requested SURL is locked by an upload.',\n",
       "       '｟*｠ globus_ftp_client: the server responded with an error 530 Login incorrect. : Server is cancelling transfer due to over-load limit (host=｟*｠, user=cmsphedx, path=(null)',\n",
       "       'Error reported from srm_ifce : 2 [SE][Ls][SRM_INVALID_PATH] File does not exist',\n",
       "       '｟*｠ globus_ftp_client: the server responded with an error 421 Idle Timeout: closing control connection.',\n",
       "       'srm-ifce err: Communication error on send, err: [SE][Ls][] httpg:/ingrid-se02.cism.ucl.ac.be:8444/srm/managerv2: CGSI-gSOAP running on t3serv019.mit.edu reports Could NOT load client credentials GSS Major Status: General failure GSS Minor Status Error Chain: globus_gsi_gssapi: Error with GSI credential globus_gsi_gssapi: Error with gss credential handle globus_credential: Valid credentials could not be found in any of the possible locations specified by the credential search order. Valid credentials coul',\n",
       "       'SOURCE CHECKSUM Operation timed out',\n",
       "       'TRANSFER globus_ftp_client: the server responded with an error 451 Transfer was forcefully killed',\n",
       "       'srm-ifce err: Communication error on send, err: [SE][Ls][] httpg:/ingrid-se02.cism.ucl.ac.be:8444/srm/managerv2: CGSI-gSOAP running on cmsftssrv1.fnal.gov reports Error reading token data header: Connection closed',\n",
       "       'TRANSFER CHECKSUM MISMATCH User defined checksum and destination checksums do not match｟*｠ !=｟*｠',\n",
       "       'TRANSFER globus_ftp_client: the server responded with an error 500 500-Command failed. : callback failed. 500-globus_xio: Unable to connect to｟*｠:｟*｠ 500-globus_xio: System error in connect: Connection timed out 500-globus_xio: A system call failed: Connection timed out 500 End.',\n",
       "       'TRANSFER globus_ftp_client: the server responded with an error 500 500-Command failed. : callback failed. 500-globus_xio: System error in｟*｠:｟*｠ 500-globus_xio: A system call failed:｟*｠ 500 End.'],\n",
       "      dtype=object)"
      ]
     },
     "execution_count": 42,
     "metadata": {},
     "output_type": "execute_result"
    }
   ],
   "source": [
    "clusters_ucl['pattern'].values"
   ]
  },
  {
   "cell_type": "code",
   "execution_count": 44,
   "metadata": {},
   "outputs": [
    {
     "data": {
      "text/plain": [
       "array(['DESTINATION SRM_PUTDONE call to srm_ifce error: [SE][PutDone][] httpg:/dcache-se-cms.desy.de:8443/srm/managerv2: CGSI-gSOAP running on t3serv019.mit.edu reports could not open connection to dcache-se-cms.desy.de:8443',\n",
       "       'Destination file exists and overwrite is not enabled',\n",
       "       'TRANSFER CHECKSUM MISMATCH User defined checksum and destination checksums do not match｟*｠ !=｟*｠',\n",
       "       'TRANSFER Operation canceled from gfal2_cancel',\n",
       "       'TRANSFER Operation timed out',\n",
       "       'TRANSFER Transfer canceled because the gsiftp performance marker timeout of 360 seconds has been exceeded, or all performance markers during that period indicated zero bytes transferred',\n",
       "       'TRANSFER an end-of-file was reached globus_xio: An end of file occurred',\n",
       "       'TRANSFER globus_xio: System error in recv: Connection timed out globus_xio: A system call failed: Connection timed out',\n",
       "       '｟*｠ globus_xio: System error in recv: Connection reset by peer globus_xio: A system call failed: Connection reset by peer'],\n",
       "      dtype=object)"
      ]
     },
     "execution_count": 44,
     "metadata": {},
     "output_type": "execute_result"
    }
   ],
   "source": [
    "np.intersect1d(clusters_krknu['pattern'].values,clusters_ucl['pattern'].values)"
   ]
  },
  {
   "cell_type": "code",
   "execution_count": null,
   "metadata": {},
   "outputs": [],
   "source": []
  }
 ],
 "metadata": {
  "kernelspec": {
   "display_name": "Python 3",
   "language": "python",
   "name": "python3"
  },
  "language_info": {
   "codemirror_mode": {
    "name": "ipython",
    "version": 3
   },
   "file_extension": ".py",
   "mimetype": "text/x-python",
   "name": "python",
   "nbconvert_exporter": "python",
   "pygments_lexer": "ipython3",
   "version": "3.7.4"
  }
 },
 "nbformat": 4,
 "nbformat_minor": 4
}
